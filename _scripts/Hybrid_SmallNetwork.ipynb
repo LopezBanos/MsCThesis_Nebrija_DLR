{
 "cells": [
  {
   "cell_type": "markdown",
   "metadata": {},
   "source": [
    "# TEP: A Three Node Fully Connected Network"
   ]
  },
  {
   "cell_type": "code",
   "execution_count": 84,
   "metadata": {},
   "outputs": [
    {
     "data": {
      "text/plain": [
       "'\\n@Thesis{SerAlOr2023,\\n    author      = {Sergio López Baños},\\n    title       = {Transmission Expansion Planning by Quantum Annealing},\\n    type        = {diplomathesis}, \\n    institution = {Nebrija University},\\n    year        = {2023},\\n}\\n'"
      ]
     },
     "execution_count": 84,
     "metadata": {},
     "output_type": "execute_result"
    }
   ],
   "source": [
    "#=============================================================================#\n",
    "# Transmission Expansion Planning (TEP) Problem: \n",
    "# A Three Node Fully Connected Network\n",
    "# Author: Sergio Lopez Banos\n",
    "# GitHub: /LopezBanos\n",
    "# Citation: If you use this code in your project please cite the following \n",
    "# thesis:\n",
    "'''\n",
    "@Thesis{SerAlOr2023,\n",
    "    author      = {Sergio López Baños},\n",
    "    title       = {Transmission Expansion Planning by Quantum Annealing},\n",
    "    type        = {diplomathesis}, \n",
    "    institution = {Nebrija University},\n",
    "    year        = {2023},\n",
    "}\n",
    "'''\n",
    "#=============================================================================#\n"
   ]
  },
  {
   "cell_type": "code",
   "execution_count": 85,
   "metadata": {},
   "outputs": [],
   "source": [
    "#=============================================================================#\n",
    "#                            Importing packages                               #\n",
    "#=============================================================================#\n",
    "from itertools import permutations\n",
    "import dimod\n",
    "import neal\n",
    "import numpy as np     \n",
    "import pandas as pd    \n",
    "from dimod import ConstrainedQuadraticModel, Binary, Integer, quicksum\n",
    "from dwave.system import LeapHybridCQMSampler, DWaveSampler, EmbeddingComposite "
   ]
  },
  {
   "cell_type": "code",
   "execution_count": 86,
   "metadata": {},
   "outputs": [],
   "source": [
    "#=============================================================================#\n",
    "#                            Fill up the coordinates                          #\n",
    "#=============================================================================#      \n",
    "C_iv = np.array([10, 20, 30], dtype=int)     # Investment Cost Coefficients\n",
    "C_oc = np.array([10, 5, 2], dtype=int)       # Operational Cost Coefficients\n",
    "C_sh = np.array([100, 100, 100], dtype=int)  # Load shedding Cost\n",
    "g_max = np.array([10, 10, 10], dtype=int)    # Generator nominal power \n",
    "f_max_1 = 10                                 # Maximum power flow of transmission lines\n",
    "S =  int(np.shape(g_max)[0])                 # Number of rows of the matrix\n",
    "D = np.array([0, 12, 0], dtype=int)          # Demand at each node \n"
   ]
  },
  {
   "cell_type": "code",
   "execution_count": 87,
   "metadata": {},
   "outputs": [],
   "source": [
    "def pop_index(index, size):\n",
    "    \"\"\"\n",
    "    Remove an index from a list.\n",
    "    \"\"\"\n",
    "    relaxed_list = [i for i in range(size)]\n",
    "    relaxed_list.remove(index)\n",
    "    return relaxed_list  "
   ]
  },
  {
   "cell_type": "markdown",
   "metadata": {},
   "source": [
    "# Create CQM\n",
    "\n",
    "The following class has methods for building the CQM and running it on a D-Wave Hyrbid solver. It returns the samples and energies.\n",
    "\n",
    "It takes as input the coefficients of the following combinatorial optimization problem:"
   ]
  },
  {
   "cell_type": "code",
   "execution_count": 88,
   "metadata": {},
   "outputs": [],
   "source": [
    "class CQM:\n",
    "    def __init__(self, size, C_iv, C_oc, C_sh, g_max, f_max_1, D):\n",
    "        self.size = size\n",
    "        self.C_iv = C_iv\n",
    "        self.C_oc = C_oc\n",
    "        self.C_sh = C_sh\n",
    "        self.g_max = g_max\n",
    "        self.f_max_1 = f_max_1\n",
    "        self.D = D\n",
    "      \n",
    "    def build_cqm(self):\n",
    "        S = self.size\n",
    "        C_iv = self.C_iv\n",
    "        C_oc = self.C_oc\n",
    "        C_sh = self.C_sh\n",
    "        g_max = self.g_max\n",
    "        f_max_1 = self.f_max_1\n",
    "        D = self.D\n",
    "\n",
    "        #----------------------------------------------------------#\n",
    "        # Creating the binary variables required for the CQM model #\n",
    "        #----------------------------------------------------------#\n",
    "        # Transmission Lines\n",
    "        X = []\n",
    "        for i in range(S):\n",
    "            _temp = []\n",
    "            for j in range(S):\n",
    "                    if i!=j:\n",
    "                        _temp.append(Binary('X_{}{}'.format(i+1, j+1)))\n",
    "            X.append(_temp)\n",
    "\n",
    "        x = []\n",
    "        for i in range(S):\n",
    "            for j in range(S):\n",
    "                    if i!=j and i<j:\n",
    "                        x.append(Binary('X_{}{}'.format(i+1, j+1)))\n",
    "        \n",
    "        # Generator INTEGER variables \n",
    "        G = [Integer('g_{}'.format(i+1), upper_bound=g_max[i], lower_bound=0) for i in range(len(g_max))] \n",
    "        \n",
    "        # Load shedding INTEGER variables\n",
    "        R = [Integer('r_{}'.format(i+1), upper_bound=D[i], lower_bound=0) for i in range(len(g_max))]\n",
    "\n",
    "        # POWER FLOW OF CANDIDATE LINES\n",
    "        F_in = []\n",
    "        F_out = []\n",
    "        for i in range(S):\n",
    "            _temp_in = []\n",
    "            _temp_out = []\n",
    "            for j in range(S):\n",
    "                if i!=j:\n",
    "                    # Incoming Flow and Outcoming Flows\n",
    "                    _temp_in.append(Integer('fin_{}_{}'.format(i+1, j+1), upper_bound=f_max_1, lower_bound=0))\n",
    "                    _temp_out.append(Integer('fin_{}_{}'.format(j+1, i+1), upper_bound=f_max_1, lower_bound=0))\n",
    "\n",
    "            F_in.append(_temp_in)\n",
    "            F_out.append(_temp_out)\n",
    "        #=============================================================================#\n",
    "        #                               Build the CQM model                           #\n",
    "        #=============================================================================# \n",
    "        cqm = ConstrainedQuadraticModel()\n",
    "        # Objective Function\n",
    "        obj_weight_value = 1\n",
    "\n",
    "        # Investment Cost\n",
    "        investment_objective = obj_weight_value * quicksum(C_iv[i] * x[i] \n",
    "                                                    for i in range(S))\n",
    "\n",
    "        # Operational cost\n",
    "        operational_objective = obj_weight_value * quicksum(C_oc[i]*G[i] \n",
    "                                                    for i in range(S))\n",
    "\n",
    "        # Load Shedding Cost \n",
    "        shedding_objective = obj_weight_value * quicksum(C_sh[i]*R[i] \n",
    "                                                    for i in range(S))\n",
    "\n",
    "        # Total Objective\n",
    "        objective = investment_objective + operational_objective + shedding_objective\n",
    "\n",
    "        # Add the objective to the CQM\n",
    "        cqm.set_objective(objective)\n",
    "\n",
    "        # Add constraints \n",
    "        for i in range(S):\n",
    "            cross_index  = pop_index(i, S)\n",
    "            incoming_flows = []\n",
    "            outcoming_flows = []\n",
    "            for j in range(S-1):\n",
    "                incoming_flows.append(F_in[i][j])\n",
    "                outcoming_flows.append(F_out[i][j])\n",
    "            cqm.add_constraint(G[i] + R[i] + sum(incoming_flows)                    \n",
    "                                       - sum(outcoming_flows)\n",
    "                                    == D[i], label = 'Demand_{}'.format(i+1))\n",
    "\n",
    "        # Power flow constraint of candidate lines (If the line is not build then the allowed power flow is zero)\n",
    "        for line in range(S): # This can be improved with a loop\n",
    "            for j in range(S-1):\n",
    "                # Incoming Power Flow\n",
    "                cqm.add_constraint(F_in[line][j] - f_max_1*X[line][j] <= 0)  \n",
    "                # Outcoming Power Flow\n",
    "                cqm.add_constraint(F_out[line][j] - f_max_1*X[line][j] <= 0)  \n",
    "        return cqm\n",
    "    \n",
    "    def run_sampler(self):\n",
    "        API_TOKEN = \"DEV-35f1dde7d08863882634b316655fb49b7a769fd2\"   # Use your own token\n",
    "        sampler_hybrid = LeapHybridCQMSampler(token = API_TOKEN)\n",
    "        cqm = self.build_cqm()\n",
    "        results_hybrid = sampler_hybrid.sample_cqm(cqm, label = \"ThreeNode\")\n",
    "        results_hybrid_feasible = results_hybrid.filter(lambda row: row.is_feasible);\n",
    "        samples = []\n",
    "        energies = []\n",
    "        num_occurrences = []\n",
    "        for sample, energy, num_occurrence in results_hybrid_feasible.data(fields=['sample', 'energy', 'num_occurrences']):\n",
    "            samples.append(sample)\n",
    "            energies.append(energy)\n",
    "            num_occurrences.append(num_occurrence)\n",
    "\n",
    "        return samples, energies, num_occurrences"
   ]
  },
  {
   "cell_type": "markdown",
   "metadata": {},
   "source": [
    "## Run the hybrid sampler from D-Wave"
   ]
  },
  {
   "cell_type": "code",
   "execution_count": 89,
   "metadata": {},
   "outputs": [],
   "source": [
    "samples, energies, num_ocurrences = CQM(S, C_iv, C_oc, C_sh, g_max, f_max_1, D).run_sampler()"
   ]
  },
  {
   "cell_type": "code",
   "execution_count": 24,
   "metadata": {},
   "outputs": [],
   "source": [
    "# Group the list of dictionaries into a single dictionary\n",
    "from collections import defaultdict\n",
    "\n",
    "dd = defaultdict(list)\n",
    "\n",
    "for d in samples: # you can list as many input dicts as you want here\n",
    "    for key, value in d.items():\n",
    "        dd[key].append(value)"
   ]
  },
  {
   "cell_type": "code",
   "execution_count": 25,
   "metadata": {},
   "outputs": [],
   "source": [
    "df = pd.DataFrame(dd) \n",
    "df['Prices'] = energies "
   ]
  },
  {
   "cell_type": "code",
   "execution_count": 26,
   "metadata": {},
   "outputs": [],
   "source": [
    "df['num_ocurrences'] = num_ocurrences"
   ]
  },
  {
   "cell_type": "code",
   "execution_count": 29,
   "metadata": {},
   "outputs": [
    {
     "data": {
      "text/plain": [
       "1"
      ]
     },
     "execution_count": 29,
     "metadata": {},
     "output_type": "execute_result"
    }
   ],
   "source": [
    "max(num_ocurrences)"
   ]
  },
  {
   "cell_type": "code",
   "execution_count": 35,
   "metadata": {},
   "outputs": [
    {
     "data": {
      "text/plain": [
       "{'X_12': 0.0,\n",
       " 'X_13': 0.0,\n",
       " 'X_23': 1.0,\n",
       " 'g_1': 0.0,\n",
       " 'g_2': 2.0,\n",
       " 'g_3': 10.0,\n",
       " 'r_1': -0.0,\n",
       " 'r_2': -0.0,\n",
       " 'r_3': -0.0}"
      ]
     },
     "execution_count": 35,
     "metadata": {},
     "output_type": "execute_result"
    }
   ],
   "source": [
    "samples[0]"
   ]
  },
  {
   "cell_type": "code",
   "execution_count": null,
   "metadata": {},
   "outputs": [],
   "source": [
    "def list_of_dicc_to_pandas_df(list_of_dicc):\n",
    "    for dicc in list_of_dicc:"
   ]
  },
  {
   "cell_type": "code",
   "execution_count": null,
   "metadata": {},
   "outputs": [],
   "source": [
    "        # Add constraints \n",
    "        i=0\n",
    "        cross_index  = pop_index(i, S)\n",
    "        cqm.add_constraint(G[i] + R[i] + F_in[i][0] + F_in[i][1]                    # This can be improved with a loop\n",
    "                                       - F_out[i][0] - F_out[i][1]\n",
    "                                    == D[i], label = 'Demand_{}'.format(i+1))\n",
    "        i=1 \n",
    "        cqm.add_constraint(G[i] + R[i] + F_in[i][0] + F_in[i][1]                    # This can be improved with a loop\n",
    "                                       - F_out[i][0] - F_out[i][1]\n",
    "                                    == D[i], label = 'Demand_{}'.format(i+1))\n",
    "        \n",
    "        i=2 \n",
    "        cqm.add_constraint(G[i] + R[i] + F_in[i][0] + F_in[i][1]                    # This can be improved with a loop\n",
    "                                       - F_out[i][0] - F_out[i][1]\n",
    "                                    == D[i], label = 'Demand_{}'.format(i+1))"
   ]
  },
  {
   "cell_type": "code",
   "execution_count": 16,
   "metadata": {},
   "outputs": [
    {
     "data": {
      "text/plain": [
       "[[BinaryQuadraticModel({'X_12': 1.0}, {}, 0.0, 'BINARY'),\n",
       "  BinaryQuadraticModel({'X_13': 1.0}, {}, 0.0, 'BINARY')],\n",
       " [BinaryQuadraticModel({'X_23': 1.0}, {}, 0.0, 'BINARY')]]"
      ]
     },
     "execution_count": 16,
     "metadata": {},
     "output_type": "execute_result"
    }
   ],
   "source": [
    "X = []\n",
    "for i in range(S):\n",
    "    _temp = []\n",
    "    for j in range(S):\n",
    "            if i!=j and i<j:\n",
    "                _temp.append(Binary('X_{}{}'.format(i+1, j+1)))\n",
    "    if len(_temp) != 0:\n",
    "        X.append(_temp)\n",
    "X"
   ]
  },
  {
   "cell_type": "code",
   "execution_count": 13,
   "metadata": {},
   "outputs": [
    {
     "name": "stdout",
     "output_type": "stream",
     "text": [
      "0 0\n",
      "0 1\n",
      "1 0\n",
      "1 1\n",
      "2 0\n",
      "2 1\n"
     ]
    }
   ],
   "source": [
    "for i in range(S):\n",
    "    for j in range(S-1):\n",
    "        print(i,j)"
   ]
  },
  {
   "cell_type": "code",
   "execution_count": null,
   "metadata": {},
   "outputs": [],
   "source": []
  }
 ],
 "metadata": {
  "kernelspec": {
   "display_name": "Python 3 (ipykernel)",
   "language": "python",
   "name": "python3"
  },
  "language_info": {
   "codemirror_mode": {
    "name": "ipython",
    "version": 3
   },
   "file_extension": ".py",
   "mimetype": "text/x-python",
   "name": "python",
   "nbconvert_exporter": "python",
   "pygments_lexer": "ipython3",
   "version": "3.10.9"
  }
 },
 "nbformat": 4,
 "nbformat_minor": 2
}
